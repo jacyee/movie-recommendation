{
 "cells": [
  {
   "cell_type": "code",
   "execution_count": 22,
   "metadata": {
    "tags": []
   },
   "outputs": [],
   "source": [
    "import pandas as pd\n",
    "import requests\n",
    "import os\n",
    "from matplotlib import pyplot as plt\n",
    "%matplotlib inline"
   ]
  },
  {
   "cell_type": "code",
   "execution_count": 2,
   "metadata": {
    "tags": []
   },
   "outputs": [],
   "source": [
    "# Import Rotten Tomatoes bestofrt tsv file\n",
    "df = pd.read_csv('bestofrt.tsv',sep='\\t')"
   ]
  },
  {
   "cell_type": "code",
   "execution_count": 3,
   "metadata": {
    "tags": []
   },
   "outputs": [
    {
     "data": {
      "text/html": [
       "<div>\n",
       "<style scoped>\n",
       "    .dataframe tbody tr th:only-of-type {\n",
       "        vertical-align: middle;\n",
       "    }\n",
       "\n",
       "    .dataframe tbody tr th {\n",
       "        vertical-align: top;\n",
       "    }\n",
       "\n",
       "    .dataframe thead th {\n",
       "        text-align: right;\n",
       "    }\n",
       "</style>\n",
       "<table border=\"1\" class=\"dataframe\">\n",
       "  <thead>\n",
       "    <tr style=\"text-align: right;\">\n",
       "      <th></th>\n",
       "      <th>ranking</th>\n",
       "      <th>critic_score</th>\n",
       "      <th>title</th>\n",
       "      <th>number_of_critic_ratings</th>\n",
       "    </tr>\n",
       "  </thead>\n",
       "  <tbody>\n",
       "    <tr>\n",
       "      <th>0</th>\n",
       "      <td>1</td>\n",
       "      <td>99</td>\n",
       "      <td>The Wizard of Oz (1939)</td>\n",
       "      <td>110</td>\n",
       "    </tr>\n",
       "    <tr>\n",
       "      <th>1</th>\n",
       "      <td>2</td>\n",
       "      <td>100</td>\n",
       "      <td>Citizen Kane (1941)</td>\n",
       "      <td>75</td>\n",
       "    </tr>\n",
       "    <tr>\n",
       "      <th>2</th>\n",
       "      <td>3</td>\n",
       "      <td>100</td>\n",
       "      <td>The Third Man (1949)</td>\n",
       "      <td>77</td>\n",
       "    </tr>\n",
       "    <tr>\n",
       "      <th>3</th>\n",
       "      <td>4</td>\n",
       "      <td>99</td>\n",
       "      <td>Get Out (2017)</td>\n",
       "      <td>282</td>\n",
       "    </tr>\n",
       "    <tr>\n",
       "      <th>4</th>\n",
       "      <td>5</td>\n",
       "      <td>97</td>\n",
       "      <td>Mad Max: Fury Road (2015)</td>\n",
       "      <td>370</td>\n",
       "    </tr>\n",
       "  </tbody>\n",
       "</table>\n",
       "</div>"
      ],
      "text/plain": [
       "   ranking  critic_score                      title  number_of_critic_ratings\n",
       "0        1            99    The Wizard of Oz (1939)                       110\n",
       "1        2           100        Citizen Kane (1941)                        75\n",
       "2        3           100       The Third Man (1949)                        77\n",
       "3        4            99             Get Out (2017)                       282\n",
       "4        5            97  Mad Max: Fury Road (2015)                       370"
      ]
     },
     "execution_count": 3,
     "metadata": {},
     "output_type": "execute_result"
    }
   ],
   "source": [
    "df.head()"
   ]
  },
  {
   "cell_type": "code",
   "execution_count": 4,
   "metadata": {},
   "outputs": [
    {
     "data": {
      "text/plain": [
       "ranking                     100\n",
       "critic_score                100\n",
       "title                       100\n",
       "number_of_critic_ratings    100\n",
       "dtype: int64"
      ]
     },
     "execution_count": 4,
     "metadata": {},
     "output_type": "execute_result"
    }
   ],
   "source": [
    "# record count\n",
    "df.count()"
   ]
  },
  {
   "cell_type": "code",
   "execution_count": 5,
   "metadata": {},
   "outputs": [
    {
     "name": "stdout",
     "output_type": "stream",
     "text": [
      "200\n"
     ]
    }
   ],
   "source": [
    "url = 'https://www.rottentomatoes.com/m/et_the_extraterrestrial'\n",
    "response = requests.get(url)\n",
    "print(response.status_code)"
   ]
  },
  {
   "cell_type": "code",
   "execution_count": 6,
   "metadata": {},
   "outputs": [],
   "source": [
    "# # save response content html to file\n",
    "\n",
    "# with open('https://www.rottentomatoes.com/m/et_the_extraterrestrial',mode = 'wb')as file:\n",
    "#     file.write(response.content)"
   ]
  },
  {
   "cell_type": "code",
   "execution_count": 7,
   "metadata": {},
   "outputs": [],
   "source": [
    "from bs4 import BeautifulSoup"
   ]
  },
  {
   "cell_type": "code",
   "execution_count": 8,
   "metadata": {},
   "outputs": [],
   "source": [
    "soup = BeautifulSoup(response.content,'lxml')"
   ]
  },
  {
   "cell_type": "code",
   "execution_count": 9,
   "metadata": {},
   "outputs": [
    {
     "data": {
      "text/plain": [
       "'C:\\\\Users\\\\JC\\\\iCloudDrive\\\\portfolio\\\\movie'"
      ]
     },
     "execution_count": 9,
     "metadata": {},
     "output_type": "execute_result"
    }
   ],
   "source": [
    "os.getcwd()"
   ]
  },
  {
   "cell_type": "code",
   "execution_count": 10,
   "metadata": {},
   "outputs": [],
   "source": [
    "# use static file handling instead, passing path to html file into file handler & bs constructor\n",
    "with open('rt_html\\et_the_extraterrestrial.html')as file:\n",
    "    soup = BeautifulSoup(file,'lxml')"
   ]
  },
  {
   "cell_type": "code",
   "execution_count": 11,
   "metadata": {},
   "outputs": [
    {
     "data": {
      "text/plain": [
       "<title>E.T. The Extra-Terrestrial (1982) - Rotten Tomatoes</title>"
      ]
     },
     "execution_count": 11,
     "metadata": {},
     "output_type": "execute_result"
    }
   ],
   "source": [
    "# find page title\n",
    "soup.find('title')"
   ]
  },
  {
   "cell_type": "code",
   "execution_count": 12,
   "metadata": {},
   "outputs": [
    {
     "data": {
      "text/plain": [
       "['E.T. The Extra-Terrestrial\\xa0(1982) - Rotten Tomatoes']"
      ]
     },
     "execution_count": 12,
     "metadata": {},
     "output_type": "execute_result"
    }
   ],
   "source": [
    "# find movie title, return tag children list\n",
    "soup.find('title').contents"
   ]
  },
  {
   "cell_type": "code",
   "execution_count": 13,
   "metadata": {},
   "outputs": [
    {
     "data": {
      "text/plain": [
       "'E.T. The Extra-Terrestrial\\xa0(1982) - Rotten Tomatoes'"
      ]
     },
     "execution_count": 13,
     "metadata": {},
     "output_type": "execute_result"
    }
   ],
   "source": [
    "# find movie title content str\n",
    "soup.find('title').contents[0]"
   ]
  },
  {
   "cell_type": "code",
   "execution_count": 14,
   "metadata": {},
   "outputs": [
    {
     "name": "stdout",
     "output_type": "stream",
     "text": [
      "E.T. The Extra-Terrestrial (1982)\n"
     ]
    }
   ],
   "source": [
    "# find movie title content str with slicing\n",
    "x = soup.find('title').contents[0][:-len(' - Rotten Tomatoes')]\n",
    "\n",
    "# remove nbsp\n",
    "x= x.replace(u'\\xa0', u' ')\n",
    "print(x)"
   ]
  },
  {
   "cell_type": "code",
   "execution_count": null,
   "metadata": {},
   "outputs": [],
   "source": []
  },
  {
   "cell_type": "code",
   "execution_count": 15,
   "metadata": {},
   "outputs": [],
   "source": [
    "# Creates an empty list, df_list, to which dictionaries will be appended\n",
    "df_list = []"
   ]
  },
  {
   "cell_type": "code",
   "execution_count": 16,
   "metadata": {},
   "outputs": [
    {
     "data": {
      "text/plain": [
       "['1000013-12_angry_men.html',\n",
       " '1000121-39_steps.html',\n",
       " '1000355-adventures_of_robin_hood.html',\n",
       " '1000626-all_about_eve.html',\n",
       " '1000642-all_quiet_on_the_western_front.html',\n",
       " '1003707-casablanca.html',\n",
       " '1007818-frankenstein.html',\n",
       " '1011615-king_kong.html',\n",
       " '1012007-laura.html',\n",
       " '1012928-m.html',\n",
       " '1013139-maltese_falcon.html',\n",
       " '1013775-metropolis.html',\n",
       " '1017289-rear_window.html',\n",
       " '1017293-rebecca.html',\n",
       " '1020333-streetcar_named_desire.html',\n",
       " '1021749-touch_of_evil.html',\n",
       " '1046060-high_noon.html',\n",
       " '1048445-snow_white_and_the_seven_dwarfs.html',\n",
       " '12_years_a_slave.html',\n",
       " '400_blows.html',\n",
       " 'alien.html',\n",
       " 'apocalypse_now.html',\n",
       " 'argo_2012.html',\n",
       " 'army_of_shadows.html',\n",
       " 'arrival_2016.html',\n",
       " 'baby_driver.html',\n",
       " 'battleship_potemkin.html',\n",
       " 'beatles_a_hard_days_night.html',\n",
       " 'bicycle_thieves.html',\n",
       " 'boyhood.html',\n",
       " 'bride_of_frankenstein.html',\n",
       " 'brooklyn.html',\n",
       " 'citizen_kane.html',\n",
       " 'dr_strangelove.html',\n",
       " 'dunkirk_2017.html',\n",
       " 'et_the_extraterrestrial.html',\n",
       " 'finding_nemo.html',\n",
       " 'get_out.html',\n",
       " 'godfather.html',\n",
       " 'godfather_part_ii.html',\n",
       " 'gone_with_the_wind.html',\n",
       " 'grapes_of_wrath.html',\n",
       " 'gravity_2013.html',\n",
       " 'harry_potter_and_the_deathly_hallows_part_2_2011.html',\n",
       " 'hell_or_high_water.html',\n",
       " 'inside_out_2015.html',\n",
       " 'it_happened_one_night.html',\n",
       " 'jaws.html',\n",
       " 'last_picture_show.html',\n",
       " 'la_confidential.html',\n",
       " 'la_grande_illusion.html',\n",
       " 'la_la_land.html',\n",
       " 'logan_2017.html',\n",
       " 'mad_max_fury_road.html',\n",
       " 'manchester_by_the_sea.html',\n",
       " 'man_on_wire.html',\n",
       " 'modern_times.html',\n",
       " 'moonlight_2016.html',\n",
       " 'night_of_the_hunter.html',\n",
       " 'north-by-northwest.html',\n",
       " 'nosferatu.html',\n",
       " 'on_the_waterfront.html',\n",
       " 'open_city.html',\n",
       " 'philadelphia_story.html',\n",
       " 'pinocchio_1940.html',\n",
       " 'psycho.html',\n",
       " 'rashomon.html',\n",
       " 'repulsion.html',\n",
       " 'roman_holiday.html',\n",
       " 'rosemarys_baby.html',\n",
       " 'selma.html',\n",
       " 'seven_samurai_1956.html',\n",
       " 'singin_in_the_rain.html',\n",
       " 'skyfall.html',\n",
       " 'spotlight_2015.html',\n",
       " 'star_trek_11.html',\n",
       " 'star_wars_episode_vii_the_force_awakens.html',\n",
       " 'sunset_boulevard.html',\n",
       " 'taxi_driver.html',\n",
       " 'the_babadook.html',\n",
       " 'the_battle_of_algiers.html',\n",
       " 'the_big_sick.html',\n",
       " 'the_cabinet_of_dr_caligari.html',\n",
       " 'the_conformist.html',\n",
       " 'the_dark_knight.html',\n",
       " 'the_good_the_bad_and_the_ugly.html',\n",
       " 'the_jungle_book_2016.html',\n",
       " 'the_third_man.html',\n",
       " 'the_wizard_of_oz_1939.html',\n",
       " 'the_wrestler.html',\n",
       " 'tokyo_story.html',\n",
       " 'toy_story.html',\n",
       " 'toy_story_2.html',\n",
       " 'toy_story_3.html',\n",
       " 'treasure_of_the_sierra_madre.html',\n",
       " 'up.html',\n",
       " 'vertigo.html',\n",
       " 'wages_of_fear.html',\n",
       " 'wonder_woman_2017.html',\n",
       " 'zootopia.html']"
      ]
     },
     "execution_count": 16,
     "metadata": {},
     "output_type": "execute_result"
    }
   ],
   "source": [
    "os.listdir('rt_html')"
   ]
  },
  {
   "cell_type": "code",
   "execution_count": 17,
   "metadata": {},
   "outputs": [],
   "source": [
    "# Loop through each movie's Rotten Tomatoes HTML file in rt_html folder\n",
    "for i in os.listdir('rt_html'):\n",
    "    with open(os.path.join('rt_html',i))as file:\n",
    "        soup = BeautifulSoup(file,'lxml')\n",
    "        \n",
    "        title = soup.find('title').contents[0][:-len(' - Rotten Tomatoes')]\n",
    "        audience_score = soup.find('div',class_='audience-score meter').find('span').contents[0][:-1]\n",
    "        \n",
    "        num_audience_rating = soup.find('div',class_='audience-info hidden-xs superPageFontColor')\n",
    "        num_audience_rating = num_audience_rating.find_all('div')[1].contents[2].strip().replace(',','')\n",
    "        \n",
    "        # Append to list of dictionaries\n",
    "        df_list.append({'title': title,\n",
    "                        'audience_score': int(audience_score),\n",
    "                        'num_audience_rating': int(num_audience_rating)})"
   ]
  },
  {
   "cell_type": "code",
   "execution_count": 59,
   "metadata": {},
   "outputs": [
    {
     "data": {
      "text/html": [
       "<div>\n",
       "<style scoped>\n",
       "    .dataframe tbody tr th:only-of-type {\n",
       "        vertical-align: middle;\n",
       "    }\n",
       "\n",
       "    .dataframe tbody tr th {\n",
       "        vertical-align: top;\n",
       "    }\n",
       "\n",
       "    .dataframe thead th {\n",
       "        text-align: right;\n",
       "    }\n",
       "</style>\n",
       "<table border=\"1\" class=\"dataframe\">\n",
       "  <thead>\n",
       "    <tr style=\"text-align: right;\">\n",
       "      <th></th>\n",
       "      <th>title</th>\n",
       "      <th>audience_score</th>\n",
       "      <th>num_audience_rating</th>\n",
       "    </tr>\n",
       "  </thead>\n",
       "  <tbody>\n",
       "    <tr>\n",
       "      <th>0</th>\n",
       "      <td>12 Angry Men (Twelve Angry Men) (1957)</td>\n",
       "      <td>97</td>\n",
       "      <td>103672</td>\n",
       "    </tr>\n",
       "    <tr>\n",
       "      <th>1</th>\n",
       "      <td>The 39 Steps (1935)</td>\n",
       "      <td>86</td>\n",
       "      <td>23647</td>\n",
       "    </tr>\n",
       "    <tr>\n",
       "      <th>2</th>\n",
       "      <td>The Adventures of Robin Hood (1938)</td>\n",
       "      <td>89</td>\n",
       "      <td>33584</td>\n",
       "    </tr>\n",
       "    <tr>\n",
       "      <th>3</th>\n",
       "      <td>All About Eve (1950)</td>\n",
       "      <td>94</td>\n",
       "      <td>44564</td>\n",
       "    </tr>\n",
       "    <tr>\n",
       "      <th>4</th>\n",
       "      <td>All Quiet on the Western Front (1930)</td>\n",
       "      <td>89</td>\n",
       "      <td>17768</td>\n",
       "    </tr>\n",
       "  </tbody>\n",
       "</table>\n",
       "</div>"
      ],
      "text/plain": [
       "                                    title  audience_score  num_audience_rating\n",
       "0  12 Angry Men (Twelve Angry Men) (1957)              97               103672\n",
       "1                     The 39 Steps (1935)              86                23647\n",
       "2     The Adventures of Robin Hood (1938)              89                33584\n",
       "3                    All About Eve (1950)              94                44564\n",
       "4   All Quiet on the Western Front (1930)              89                17768"
      ]
     },
     "execution_count": 59,
     "metadata": {},
     "output_type": "execute_result"
    }
   ],
   "source": [
    "df_2 = pd.DataFrame(df_list, columns = ['title', 'audience_score','num_audience_rating'])\n",
    "df_2.head()"
   ]
  },
  {
   "cell_type": "code",
   "execution_count": 38,
   "metadata": {},
   "outputs": [
    {
     "data": {
      "text/html": [
       "<div>\n",
       "<style scoped>\n",
       "    .dataframe tbody tr th:only-of-type {\n",
       "        vertical-align: middle;\n",
       "    }\n",
       "\n",
       "    .dataframe tbody tr th {\n",
       "        vertical-align: top;\n",
       "    }\n",
       "\n",
       "    .dataframe thead th {\n",
       "        text-align: right;\n",
       "    }\n",
       "</style>\n",
       "<table border=\"1\" class=\"dataframe\">\n",
       "  <thead>\n",
       "    <tr style=\"text-align: right;\">\n",
       "      <th></th>\n",
       "      <th>ranking</th>\n",
       "      <th>critic_score</th>\n",
       "      <th>title</th>\n",
       "      <th>number_of_critic_ratings</th>\n",
       "    </tr>\n",
       "  </thead>\n",
       "  <tbody>\n",
       "    <tr>\n",
       "      <th>0</th>\n",
       "      <td>1</td>\n",
       "      <td>99</td>\n",
       "      <td>The Wizard of Oz (1939)</td>\n",
       "      <td>110</td>\n",
       "    </tr>\n",
       "    <tr>\n",
       "      <th>1</th>\n",
       "      <td>2</td>\n",
       "      <td>100</td>\n",
       "      <td>Citizen Kane (1941)</td>\n",
       "      <td>75</td>\n",
       "    </tr>\n",
       "    <tr>\n",
       "      <th>2</th>\n",
       "      <td>3</td>\n",
       "      <td>100</td>\n",
       "      <td>The Third Man (1949)</td>\n",
       "      <td>77</td>\n",
       "    </tr>\n",
       "    <tr>\n",
       "      <th>3</th>\n",
       "      <td>4</td>\n",
       "      <td>99</td>\n",
       "      <td>Get Out (2017)</td>\n",
       "      <td>282</td>\n",
       "    </tr>\n",
       "    <tr>\n",
       "      <th>4</th>\n",
       "      <td>5</td>\n",
       "      <td>97</td>\n",
       "      <td>Mad Max: Fury Road (2015)</td>\n",
       "      <td>370</td>\n",
       "    </tr>\n",
       "  </tbody>\n",
       "</table>\n",
       "</div>"
      ],
      "text/plain": [
       "   ranking  critic_score                      title  number_of_critic_ratings\n",
       "0        1            99    The Wizard of Oz (1939)                       110\n",
       "1        2           100        Citizen Kane (1941)                        75\n",
       "2        3           100       The Third Man (1949)                        77\n",
       "3        4            99             Get Out (2017)                       282\n",
       "4        5            97  Mad Max: Fury Road (2015)                       370"
      ]
     },
     "execution_count": 38,
     "metadata": {},
     "output_type": "execute_result"
    }
   ],
   "source": [
    "df.head()"
   ]
  },
  {
   "cell_type": "code",
   "execution_count": 52,
   "metadata": {},
   "outputs": [],
   "source": [
    "# merge df and df2\n",
    "result = pd.merge(df,df_2,how = 'outer',on = ['title'])"
   ]
  },
  {
   "cell_type": "code",
   "execution_count": 61,
   "metadata": {},
   "outputs": [
    {
     "data": {
      "text/html": [
       "<div>\n",
       "<style scoped>\n",
       "    .dataframe tbody tr th:only-of-type {\n",
       "        vertical-align: middle;\n",
       "    }\n",
       "\n",
       "    .dataframe tbody tr th {\n",
       "        vertical-align: top;\n",
       "    }\n",
       "\n",
       "    .dataframe thead th {\n",
       "        text-align: right;\n",
       "    }\n",
       "</style>\n",
       "<table border=\"1\" class=\"dataframe\">\n",
       "  <thead>\n",
       "    <tr style=\"text-align: right;\">\n",
       "      <th></th>\n",
       "      <th>ranking</th>\n",
       "      <th>critic_score</th>\n",
       "      <th>title</th>\n",
       "      <th>number_of_critic_ratings</th>\n",
       "      <th>audience_score</th>\n",
       "      <th>num_audience_rating</th>\n",
       "    </tr>\n",
       "  </thead>\n",
       "  <tbody>\n",
       "    <tr>\n",
       "      <th>0</th>\n",
       "      <td>1.0</td>\n",
       "      <td>99.0</td>\n",
       "      <td>The Wizard of Oz (1939)</td>\n",
       "      <td>110.0</td>\n",
       "      <td>NaN</td>\n",
       "      <td>NaN</td>\n",
       "    </tr>\n",
       "    <tr>\n",
       "      <th>1</th>\n",
       "      <td>2.0</td>\n",
       "      <td>100.0</td>\n",
       "      <td>Citizen Kane (1941)</td>\n",
       "      <td>75.0</td>\n",
       "      <td>NaN</td>\n",
       "      <td>NaN</td>\n",
       "    </tr>\n",
       "    <tr>\n",
       "      <th>2</th>\n",
       "      <td>3.0</td>\n",
       "      <td>100.0</td>\n",
       "      <td>The Third Man (1949)</td>\n",
       "      <td>77.0</td>\n",
       "      <td>NaN</td>\n",
       "      <td>NaN</td>\n",
       "    </tr>\n",
       "    <tr>\n",
       "      <th>3</th>\n",
       "      <td>4.0</td>\n",
       "      <td>99.0</td>\n",
       "      <td>Get Out (2017)</td>\n",
       "      <td>282.0</td>\n",
       "      <td>NaN</td>\n",
       "      <td>NaN</td>\n",
       "    </tr>\n",
       "    <tr>\n",
       "      <th>4</th>\n",
       "      <td>5.0</td>\n",
       "      <td>97.0</td>\n",
       "      <td>Mad Max: Fury Road (2015)</td>\n",
       "      <td>370.0</td>\n",
       "      <td>NaN</td>\n",
       "      <td>NaN</td>\n",
       "    </tr>\n",
       "  </tbody>\n",
       "</table>\n",
       "</div>"
      ],
      "text/plain": [
       "   ranking  critic_score                      title  number_of_critic_ratings  \\\n",
       "0      1.0          99.0    The Wizard of Oz (1939)                     110.0   \n",
       "1      2.0         100.0        Citizen Kane (1941)                      75.0   \n",
       "2      3.0         100.0       The Third Man (1949)                      77.0   \n",
       "3      4.0          99.0             Get Out (2017)                     282.0   \n",
       "4      5.0          97.0  Mad Max: Fury Road (2015)                     370.0   \n",
       "\n",
       "   audience_score  num_audience_rating  \n",
       "0             NaN                  NaN  \n",
       "1             NaN                  NaN  \n",
       "2             NaN                  NaN  \n",
       "3             NaN                  NaN  \n",
       "4             NaN                  NaN  "
      ]
     },
     "execution_count": 61,
     "metadata": {},
     "output_type": "execute_result"
    }
   ],
   "source": [
    "result.head()"
   ]
  },
  {
   "cell_type": "code",
   "execution_count": 65,
   "metadata": {},
   "outputs": [
    {
     "data": {
      "text/plain": [
       "<matplotlib.collections.PathCollection at 0x1fc3b7c5f70>"
      ]
     },
     "execution_count": 65,
     "metadata": {},
     "output_type": "execute_result"
    },
    {
     "data": {
      "image/png": "[encoded data removed]",
      "text/plain": [
       "<Figure size 432x288 with 1 Axes>"
      ]
     },
     "metadata": {
      "needs_background": "light"
     },
     "output_type": "display_data"
    }
   ],
   "source": [
    "plt.scatter(df_2.audience_score,df.critic_score)"
   ]
  },
  {
   "cell_type": "code",
   "execution_count": null,
   "metadata": {},
   "outputs": [],
   "source": []
  },
  {
   "cell_type": "code",
   "execution_count": null,
   "metadata": {},
   "outputs": [],
   "source": []
  }
 ],
 "metadata": {
  "kernelspec": {
   "display_name": "Python 3 (ipykernel)",
   "language": "python",
   "name": "python3"
  },
  "language_info": {
   "codemirror_mode": {
    "name": "ipython",
    "version": 3
   },
   "file_extension": ".py",
   "mimetype": "text/x-python",
   "name": "python",
   "nbconvert_exporter": "python",
   "pygments_lexer": "ipython3",
   "version": "3.8.5"
  }
 },
 "nbformat": 4,
 "nbformat_minor": 4
}
